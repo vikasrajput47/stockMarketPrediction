{
 "cells": [
  {
   "cell_type": "markdown",
   "metadata": {
    "id": "IUincaI9t7JS"
   },
   "source": []
  },
  {
   "cell_type": "code",
   "execution_count": 12,
   "metadata": {
    "id": "ttOlI20kWcEN"
   },
   "outputs": [],
   "source": [
    "import numpy as np\n",
    "import pandas as pd\n",
    "import matplotlib.pyplot as plt\n",
    "import seaborn as sns\n",
    "import pickle\n",
    "from sklearn.model_selection import train_test_split\n",
    "from sklearn.metrics import r2_score\n",
    "import warnings\n",
    "warnings.filterwarnings('ignore')\n",
    "sns.set_style('darkgrid')"
   ]
  },
  {
   "cell_type": "code",
   "execution_count": 13,
   "metadata": {
    "colab": {
     "base_uri": "https://localhost:8080/",
     "height": 206
    },
    "id": "zV45mbrjW-LA",
    "outputId": "c1ba0852-0b0a-46f6-fce4-2adf6bf0ca2c"
   },
   "outputs": [
    {
     "data": {
      "text/html": [
       "<div>\n",
       "<style scoped>\n",
       "    .dataframe tbody tr th:only-of-type {\n",
       "        vertical-align: middle;\n",
       "    }\n",
       "\n",
       "    .dataframe tbody tr th {\n",
       "        vertical-align: top;\n",
       "    }\n",
       "\n",
       "    .dataframe thead th {\n",
       "        text-align: right;\n",
       "    }\n",
       "</style>\n",
       "<table border=\"1\" class=\"dataframe\">\n",
       "  <thead>\n",
       "    <tr style=\"text-align: right;\">\n",
       "      <th></th>\n",
       "      <th>Date</th>\n",
       "      <th>Open</th>\n",
       "      <th>High</th>\n",
       "      <th>Low</th>\n",
       "      <th>Close</th>\n",
       "      <th>Adj Close</th>\n",
       "      <th>Volume</th>\n",
       "    </tr>\n",
       "  </thead>\n",
       "  <tbody>\n",
       "    <tr>\n",
       "      <th>0</th>\n",
       "      <td>2004-08-19</td>\n",
       "      <td>50.050049</td>\n",
       "      <td>52.082081</td>\n",
       "      <td>48.028027</td>\n",
       "      <td>50.220219</td>\n",
       "      <td>50.220219</td>\n",
       "      <td>44659096</td>\n",
       "    </tr>\n",
       "    <tr>\n",
       "      <th>1</th>\n",
       "      <td>2004-08-20</td>\n",
       "      <td>50.555557</td>\n",
       "      <td>54.594597</td>\n",
       "      <td>50.300301</td>\n",
       "      <td>54.209209</td>\n",
       "      <td>54.209209</td>\n",
       "      <td>22834343</td>\n",
       "    </tr>\n",
       "    <tr>\n",
       "      <th>2</th>\n",
       "      <td>2004-08-23</td>\n",
       "      <td>55.430431</td>\n",
       "      <td>56.796799</td>\n",
       "      <td>54.579578</td>\n",
       "      <td>54.754753</td>\n",
       "      <td>54.754753</td>\n",
       "      <td>18256126</td>\n",
       "    </tr>\n",
       "    <tr>\n",
       "      <th>3</th>\n",
       "      <td>2004-08-24</td>\n",
       "      <td>55.675674</td>\n",
       "      <td>55.855858</td>\n",
       "      <td>51.836838</td>\n",
       "      <td>52.487488</td>\n",
       "      <td>52.487488</td>\n",
       "      <td>15247337</td>\n",
       "    </tr>\n",
       "    <tr>\n",
       "      <th>4</th>\n",
       "      <td>2004-08-25</td>\n",
       "      <td>52.532532</td>\n",
       "      <td>54.054054</td>\n",
       "      <td>51.991993</td>\n",
       "      <td>53.053055</td>\n",
       "      <td>53.053055</td>\n",
       "      <td>9188602</td>\n",
       "    </tr>\n",
       "  </tbody>\n",
       "</table>\n",
       "</div>"
      ],
      "text/plain": [
       "         Date       Open       High        Low      Close  Adj Close    Volume\n",
       "0  2004-08-19  50.050049  52.082081  48.028027  50.220219  50.220219  44659096\n",
       "1  2004-08-20  50.555557  54.594597  50.300301  54.209209  54.209209  22834343\n",
       "2  2004-08-23  55.430431  56.796799  54.579578  54.754753  54.754753  18256126\n",
       "3  2004-08-24  55.675674  55.855858  51.836838  52.487488  52.487488  15247337\n",
       "4  2004-08-25  52.532532  54.054054  51.991993  53.053055  53.053055   9188602"
      ]
     },
     "execution_count": 13,
     "metadata": {},
     "output_type": "execute_result"
    }
   ],
   "source": [
    "df=pd.read_csv(\"C:/Users/91859/Desktop/Stock_price_prediction/GOOGL.csv\")\n",
    "df.head()"
   ]
  },
  {
   "cell_type": "code",
   "execution_count": 14,
   "metadata": {
    "colab": {
     "base_uri": "https://localhost:8080/"
    },
    "id": "slPBsxfOcNY9",
    "outputId": "0d142429-26b8-4c98-95d6-f3e1c9bd856a"
   },
   "outputs": [
    {
     "data": {
      "text/plain": [
       "(4431, 7)"
      ]
     },
     "execution_count": 14,
     "metadata": {},
     "output_type": "execute_result"
    }
   ],
   "source": [
    "df.shape"
   ]
  },
  {
   "cell_type": "code",
   "execution_count": 15,
   "metadata": {
    "colab": {
     "base_uri": "https://localhost:8080/"
    },
    "id": "gcxiuAiycXq4",
    "outputId": "4a9401ed-f305-4627-ebdf-9e98e2aaa5d1"
   },
   "outputs": [
    {
     "name": "stdout",
     "output_type": "stream",
     "text": [
      "<class 'pandas.core.frame.DataFrame'>\n",
      "RangeIndex: 4431 entries, 0 to 4430\n",
      "Data columns (total 7 columns):\n",
      " #   Column     Non-Null Count  Dtype  \n",
      "---  ------     --------------  -----  \n",
      " 0   Date       4431 non-null   object \n",
      " 1   Open       4431 non-null   float64\n",
      " 2   High       4431 non-null   float64\n",
      " 3   Low        4431 non-null   float64\n",
      " 4   Close      4431 non-null   float64\n",
      " 5   Adj Close  4431 non-null   float64\n",
      " 6   Volume     4431 non-null   int64  \n",
      "dtypes: float64(5), int64(1), object(1)\n",
      "memory usage: 242.4+ KB\n"
     ]
    }
   ],
   "source": [
    "df.info()"
   ]
  },
  {
   "cell_type": "code",
   "execution_count": 16,
   "metadata": {
    "colab": {
     "base_uri": "https://localhost:8080/",
     "height": 300
    },
    "id": "WOCWpQg5ca9e",
    "outputId": "bef21d2d-c30b-4484-9473-e481d0ce95c3"
   },
   "outputs": [
    {
     "data": {
      "text/html": [
       "<div>\n",
       "<style scoped>\n",
       "    .dataframe tbody tr th:only-of-type {\n",
       "        vertical-align: middle;\n",
       "    }\n",
       "\n",
       "    .dataframe tbody tr th {\n",
       "        vertical-align: top;\n",
       "    }\n",
       "\n",
       "    .dataframe thead th {\n",
       "        text-align: right;\n",
       "    }\n",
       "</style>\n",
       "<table border=\"1\" class=\"dataframe\">\n",
       "  <thead>\n",
       "    <tr style=\"text-align: right;\">\n",
       "      <th></th>\n",
       "      <th>Open</th>\n",
       "      <th>High</th>\n",
       "      <th>Low</th>\n",
       "      <th>Close</th>\n",
       "      <th>Adj Close</th>\n",
       "      <th>Volume</th>\n",
       "    </tr>\n",
       "  </thead>\n",
       "  <tbody>\n",
       "    <tr>\n",
       "      <th>count</th>\n",
       "      <td>4431.000000</td>\n",
       "      <td>4431.000000</td>\n",
       "      <td>4431.000000</td>\n",
       "      <td>4431.000000</td>\n",
       "      <td>4431.000000</td>\n",
       "      <td>4.431000e+03</td>\n",
       "    </tr>\n",
       "    <tr>\n",
       "      <th>mean</th>\n",
       "      <td>693.087345</td>\n",
       "      <td>699.735595</td>\n",
       "      <td>686.078751</td>\n",
       "      <td>693.097367</td>\n",
       "      <td>693.097367</td>\n",
       "      <td>6.444992e+06</td>\n",
       "    </tr>\n",
       "    <tr>\n",
       "      <th>std</th>\n",
       "      <td>645.118799</td>\n",
       "      <td>651.331215</td>\n",
       "      <td>638.579488</td>\n",
       "      <td>645.187806</td>\n",
       "      <td>645.187806</td>\n",
       "      <td>7.690351e+06</td>\n",
       "    </tr>\n",
       "    <tr>\n",
       "      <th>min</th>\n",
       "      <td>49.644646</td>\n",
       "      <td>50.920921</td>\n",
       "      <td>48.028027</td>\n",
       "      <td>50.055054</td>\n",
       "      <td>50.055054</td>\n",
       "      <td>4.656000e+05</td>\n",
       "    </tr>\n",
       "    <tr>\n",
       "      <th>25%</th>\n",
       "      <td>248.558563</td>\n",
       "      <td>250.853355</td>\n",
       "      <td>245.813309</td>\n",
       "      <td>248.415916</td>\n",
       "      <td>248.415916</td>\n",
       "      <td>1.695600e+06</td>\n",
       "    </tr>\n",
       "    <tr>\n",
       "      <th>50%</th>\n",
       "      <td>434.924927</td>\n",
       "      <td>437.887878</td>\n",
       "      <td>432.687683</td>\n",
       "      <td>435.330322</td>\n",
       "      <td>435.330322</td>\n",
       "      <td>3.778418e+06</td>\n",
       "    </tr>\n",
       "    <tr>\n",
       "      <th>75%</th>\n",
       "      <td>1007.364990</td>\n",
       "      <td>1020.649994</td>\n",
       "      <td>997.274994</td>\n",
       "      <td>1007.790008</td>\n",
       "      <td>1007.790008</td>\n",
       "      <td>8.002390e+06</td>\n",
       "    </tr>\n",
       "    <tr>\n",
       "      <th>max</th>\n",
       "      <td>3025.000000</td>\n",
       "      <td>3030.929932</td>\n",
       "      <td>2977.979980</td>\n",
       "      <td>2996.770020</td>\n",
       "      <td>2996.770020</td>\n",
       "      <td>8.215117e+07</td>\n",
       "    </tr>\n",
       "  </tbody>\n",
       "</table>\n",
       "</div>"
      ],
      "text/plain": [
       "              Open         High          Low        Close    Adj Close  \\\n",
       "count  4431.000000  4431.000000  4431.000000  4431.000000  4431.000000   \n",
       "mean    693.087345   699.735595   686.078751   693.097367   693.097367   \n",
       "std     645.118799   651.331215   638.579488   645.187806   645.187806   \n",
       "min      49.644646    50.920921    48.028027    50.055054    50.055054   \n",
       "25%     248.558563   250.853355   245.813309   248.415916   248.415916   \n",
       "50%     434.924927   437.887878   432.687683   435.330322   435.330322   \n",
       "75%    1007.364990  1020.649994   997.274994  1007.790008  1007.790008   \n",
       "max    3025.000000  3030.929932  2977.979980  2996.770020  2996.770020   \n",
       "\n",
       "             Volume  \n",
       "count  4.431000e+03  \n",
       "mean   6.444992e+06  \n",
       "std    7.690351e+06  \n",
       "min    4.656000e+05  \n",
       "25%    1.695600e+06  \n",
       "50%    3.778418e+06  \n",
       "75%    8.002390e+06  \n",
       "max    8.215117e+07  "
      ]
     },
     "execution_count": 16,
     "metadata": {},
     "output_type": "execute_result"
    }
   ],
   "source": [
    "df.describe()"
   ]
  },
  {
   "cell_type": "code",
   "execution_count": 17,
   "metadata": {
    "colab": {
     "base_uri": "https://localhost:8080/"
    },
    "id": "hRGYzlpqmDH8",
    "outputId": "ca783f7f-24d9-4678-d090-76d9665c5df8"
   },
   "outputs": [
    {
     "name": "stdout",
     "output_type": "stream",
     "text": [
      "Date         0\n",
      "Open         0\n",
      "High         0\n",
      "Low          0\n",
      "Close        0\n",
      "Adj Close    0\n",
      "Volume       0\n",
      "dtype: int64\n"
     ]
    }
   ],
   "source": [
    "nan_count = df.isna().sum()\n",
    "print(nan_count )"
   ]
  },
  {
   "cell_type": "code",
   "execution_count": 10,
   "metadata": {
    "colab": {
     "base_uri": "https://localhost:8080/",
     "height": 206
    },
    "id": "oCpLNEUzc0bb",
    "outputId": "65ce3325-c691-4278-cdae-accbb5482aa0"
   },
   "outputs": [
    {
     "ename": "AttributeError",
     "evalue": "'Styler' object has no attribute 'hide_index'",
     "output_type": "error",
     "traceback": [
      "\u001b[1;31m---------------------------------------------------------------------------\u001b[0m",
      "\u001b[1;31mAttributeError\u001b[0m                            Traceback (most recent call last)",
      "Cell \u001b[1;32mIn[10], line 1\u001b[0m\n\u001b[1;32m----> 1\u001b[0m display(\u001b[43mdf\u001b[49m\u001b[38;5;241;43m.\u001b[39;49m\u001b[43mhead\u001b[49m\u001b[43m(\u001b[49m\u001b[43m)\u001b[49m\u001b[38;5;241;43m.\u001b[39;49m\u001b[43mstyle\u001b[49m\u001b[38;5;241;43m.\u001b[39;49m\u001b[43mhide_index\u001b[49m())\n",
      "\u001b[1;31mAttributeError\u001b[0m: 'Styler' object has no attribute 'hide_index'"
     ]
    }
   ],
   "source": [
    "display(df.head().style.hide_index())"
   ]
  },
  {
   "cell_type": "code",
   "execution_count": null,
   "metadata": {
    "id": "8QgRn-lBXW5w"
   },
   "outputs": [],
   "source": [
    "df.drop(df.columns.difference(['Date', 'Open', 'Close']), 1, inplace=True)"
   ]
  },
  {
   "cell_type": "code",
   "execution_count": null,
   "metadata": {
    "colab": {
     "base_uri": "https://localhost:8080/",
     "height": 206
    },
    "id": "Hp-Xo5kIeae8",
    "outputId": "940345bf-052e-43b3-d95c-710d85928a92"
   },
   "outputs": [],
   "source": [
    "display(df.head().style.hide_index())"
   ]
  },
  {
   "cell_type": "code",
   "execution_count": null,
   "metadata": {
    "colab": {
     "base_uri": "https://localhost:8080/",
     "height": 504
    },
    "id": "emetrWQpekoz",
    "outputId": "5cb51942-22b8-4a27-bc1f-4bd618e6f896"
   },
   "outputs": [],
   "source": [
    "fig, ax = plt.subplots(figsize=(20, 10))\n",
    "plot1 = sns.scatterplot(data=df.head(100), x=\"Open\", y=\"Close\", ax=ax)\n",
    "plot1.set(title='Open v/s Close')\n",
    "plt.show()"
   ]
  },
  {
   "cell_type": "code",
   "execution_count": null,
   "metadata": {
    "colab": {
     "base_uri": "https://localhost:8080/",
     "height": 321
    },
    "id": "iVpiSxMVe3tg",
    "outputId": "a4a23bd1-fff8-47e9-e484-c2d01eccc11f"
   },
   "outputs": [],
   "source": [
    "df.hist(bins=50, figsize=(20, 6))\n",
    "plt.show()"
   ]
  },
  {
   "cell_type": "code",
   "execution_count": null,
   "metadata": {
    "id": "p3TveTlLg0Sv"
   },
   "outputs": [],
   "source": [
    "from sklearn.linear_model import LinearRegression\n",
    "from sklearn.svm import SVR\n",
    "from sklearn.tree import DecisionTreeRegressor\n",
    "from sklearn.ensemble import RandomForestRegressor"
   ]
  },
  {
   "cell_type": "code",
   "execution_count": null,
   "metadata": {
    "id": "0jRAMCW7g1dj"
   },
   "outputs": [],
   "source": [
    "X = df['Open'].values\n",
    "y = df['Close'].values"
   ]
  },
  {
   "cell_type": "code",
   "execution_count": null,
   "metadata": {
    "id": "kqR4nyinhBO9"
   },
   "outputs": [],
   "source": [
    "X_train, X_test, y_train, y_test = train_test_split(X, y, train_size=0.7, test_size=0.3)"
   ]
  },
  {
   "cell_type": "code",
   "execution_count": 11,
   "metadata": {
    "id": "r-VRFqz8hGj3"
   },
   "outputs": [
    {
     "ename": "NameError",
     "evalue": "name 'LinearRegression' is not defined",
     "output_type": "error",
     "traceback": [
      "\u001b[1;31m---------------------------------------------------------------------------\u001b[0m",
      "\u001b[1;31mNameError\u001b[0m                                 Traceback (most recent call last)",
      "Cell \u001b[1;32mIn[11], line 1\u001b[0m\n\u001b[1;32m----> 1\u001b[0m model1 \u001b[38;5;241m=\u001b[39m \u001b[43mLinearRegression\u001b[49m()\n\u001b[0;32m      2\u001b[0m build1 \u001b[38;5;241m=\u001b[39m model1\u001b[38;5;241m.\u001b[39mfit(X_train\u001b[38;5;241m.\u001b[39mreshape(\u001b[38;5;241m-\u001b[39m\u001b[38;5;241m1\u001b[39m, \u001b[38;5;241m1\u001b[39m), y_train)\n\u001b[0;32m      3\u001b[0m predict1 \u001b[38;5;241m=\u001b[39m model1\u001b[38;5;241m.\u001b[39mpredict(X_test\u001b[38;5;241m.\u001b[39mreshape(\u001b[38;5;241m-\u001b[39m\u001b[38;5;241m1\u001b[39m, \u001b[38;5;241m1\u001b[39m))\n",
      "\u001b[1;31mNameError\u001b[0m: name 'LinearRegression' is not defined"
     ]
    }
   ],
   "source": [
    "model1 = LinearRegression()\n",
    "build1 = model1.fit(X_train.reshape(-1, 1), y_train)\n",
    "predict1 = model1.predict(X_test.reshape(-1, 1))"
   ]
  },
  {
   "cell_type": "code",
   "execution_count": null,
   "metadata": {
    "colab": {
     "base_uri": "https://localhost:8080/"
    },
    "id": "zihgOrQehNMy",
    "outputId": "b01ddcde-9120-4263-b62a-0d1f3d4bc0c7"
   },
   "outputs": [
    {
     "name": "stdout",
     "output_type": "stream",
     "text": [
      "Co-efficient:  [0.99999177]\n",
      "\n",
      "Intercept:  0.02387340994994247\n"
     ]
    }
   ],
   "source": [
    "print(\"Co-efficient: \", model1.coef_)\n",
    "print(\"\\nIntercept: \", model1.intercept_)"
   ]
  },
  {
   "cell_type": "code",
   "execution_count": null,
   "metadata": {
    "id": "PRMbVk86hT_l"
   },
   "outputs": [],
   "source": [
    "df1 = pd.DataFrame(list(zip(y_test, predict1)), columns=[\"Actual Values\", \"Predicted Values\"])"
   ]
  },
  {
   "cell_type": "code",
   "execution_count": null,
   "metadata": {
    "colab": {
     "base_uri": "https://localhost:8080/",
     "height": 206
    },
    "id": "B_dhCjDgg7GA",
    "outputId": "0678f054-0706-4898-ac5b-c42dff448369"
   },
   "outputs": [
    {
     "data": {
      "text/html": [
       "<style type=\"text/css\">\n",
       "</style>\n",
       "<table id=\"T_1c265_\" class=\"dataframe\">\n",
       "  <thead>\n",
       "    <tr>\n",
       "      <th class=\"col_heading level0 col0\" >Actual Values</th>\n",
       "      <th class=\"col_heading level0 col1\" >Predicted Values</th>\n",
       "    </tr>\n",
       "  </thead>\n",
       "  <tbody>\n",
       "    <tr>\n",
       "      <td id=\"T_1c265_row0_col0\" class=\"data row0 col0\" >796.950012</td>\n",
       "      <td id=\"T_1c265_row0_col1\" class=\"data row0 col1\" >798.527313</td>\n",
       "    </tr>\n",
       "    <tr>\n",
       "      <td id=\"T_1c265_row1_col0\" class=\"data row1 col0\" >156.196198</td>\n",
       "      <td id=\"T_1c265_row1_col1\" class=\"data row1 col1\" >146.053708</td>\n",
       "    </tr>\n",
       "    <tr>\n",
       "      <td id=\"T_1c265_row2_col0\" class=\"data row2 col0\" >542.917908</td>\n",
       "      <td id=\"T_1c265_row2_col1\" class=\"data row2 col1\" >536.480946</td>\n",
       "    </tr>\n",
       "    <tr>\n",
       "      <td id=\"T_1c265_row3_col0\" class=\"data row3 col0\" >2064.479980</td>\n",
       "      <td id=\"T_1c265_row3_col1\" class=\"data row3 col1\" >2064.846971</td>\n",
       "    </tr>\n",
       "    <tr>\n",
       "      <td id=\"T_1c265_row4_col0\" class=\"data row4 col0\" >84.434433</td>\n",
       "      <td id=\"T_1c265_row4_col1\" class=\"data row4 col1\" >87.160294</td>\n",
       "    </tr>\n",
       "  </tbody>\n",
       "</table>\n"
      ],
      "text/plain": [
       "<pandas.io.formats.style.Styler at 0x7f1903a61520>"
      ]
     },
     "execution_count": 20,
     "metadata": {},
     "output_type": "execute_result"
    }
   ],
   "source": [
    "df1.head().style.hide_index()"
   ]
  },
  {
   "cell_type": "code",
   "execution_count": null,
   "metadata": {
    "colab": {
     "base_uri": "https://localhost:8080/",
     "height": 498
    },
    "id": "hFI7oMDVuk8i",
    "outputId": "4599ecf9-8ecf-4a75-b4f6-92b5ae4e050f"
   },
   "outputs": [
    {
     "data": {
      "image/png": "[encoded data removed]",
      "text/plain": [
       "<Figure size 1440x720 with 1 Axes>"
      ]
     },
     "metadata": {},
     "output_type": "display_data"
    }
   ],
   "source": [
    "df1.head(50).plot(kind=\"bar\", figsize=(20, 10), title='Simple Linear Regression')\n",
    "plt.show()"
   ]
  },
  {
   "cell_type": "code",
   "execution_count": null,
   "metadata": {
    "colab": {
     "base_uri": "https://localhost:8080/"
    },
    "id": "hYI2wNQGuxGc",
    "outputId": "37b62b1a-c7b4-40f5-ce36-d571d797494e"
   },
   "outputs": [
    {
     "name": "stdout",
     "output_type": "stream",
     "text": [
      "Accuracy of Simple Linear Regression: 0.9995735664113886\n"
     ]
    }
   ],
   "source": [
    "accuracy1 = r2_score(y_test, predict1)\n",
    "print(\"Accuracy of Simple Linear Regression:\", accuracy1)"
   ]
  },
  {
   "cell_type": "markdown",
   "metadata": {
    "id": "s1HqxjqyOUbd"
   },
   "source": [
    "Support vector machine\n"
   ]
  },
  {
   "cell_type": "code",
   "execution_count": null,
   "metadata": {
    "id": "IVXoTWxvOLgs"
   },
   "outputs": [],
   "source": [
    "model2 = SVR(kernel=\"rbf\", gamma = 0.01, C=100)\n",
    "build2 = model2.fit(X_train.reshape(-1, 1), y_train)\n",
    "predict2 = model2.predict(X_test.reshape(-1, 1))"
   ]
  },
  {
   "cell_type": "code",
   "execution_count": null,
   "metadata": {
    "id": "-T_vfat8Oggb"
   },
   "outputs": [],
   "source": [
    "df2 = pd.DataFrame(list(zip(y_test, predict2)), columns=[\"Actual Values\", \"Predicted Values\"])"
   ]
  },
  {
   "cell_type": "code",
   "execution_count": null,
   "metadata": {
    "colab": {
     "base_uri": "https://localhost:8080/",
     "height": 206
    },
    "id": "iucLnzcuW8Xy",
    "outputId": "b72e2693-7ec9-48da-b834-8a848e2c263c"
   },
   "outputs": [
    {
     "data": {
      "text/html": [
       "<style type=\"text/css\">\n",
       "</style>\n",
       "<table id=\"T_5c764_\" class=\"dataframe\">\n",
       "  <thead>\n",
       "    <tr>\n",
       "      <th class=\"col_heading level0 col0\" >Actual Values</th>\n",
       "      <th class=\"col_heading level0 col1\" >Predicted Values</th>\n",
       "    </tr>\n",
       "  </thead>\n",
       "  <tbody>\n",
       "    <tr>\n",
       "      <td id=\"T_5c764_row0_col0\" class=\"data row0 col0\" >796.950012</td>\n",
       "      <td id=\"T_5c764_row0_col1\" class=\"data row0 col1\" >802.251093</td>\n",
       "    </tr>\n",
       "    <tr>\n",
       "      <td id=\"T_5c764_row1_col0\" class=\"data row1 col0\" >156.196198</td>\n",
       "      <td id=\"T_5c764_row1_col1\" class=\"data row1 col1\" >146.030877</td>\n",
       "    </tr>\n",
       "    <tr>\n",
       "      <td id=\"T_5c764_row2_col0\" class=\"data row2 col0\" >542.917908</td>\n",
       "      <td id=\"T_5c764_row2_col1\" class=\"data row2 col1\" >536.921151</td>\n",
       "    </tr>\n",
       "    <tr>\n",
       "      <td id=\"T_5c764_row3_col0\" class=\"data row3 col0\" >2064.479980</td>\n",
       "      <td id=\"T_5c764_row3_col1\" class=\"data row3 col1\" >1848.457970</td>\n",
       "    </tr>\n",
       "    <tr>\n",
       "      <td id=\"T_5c764_row4_col0\" class=\"data row4 col0\" >84.434433</td>\n",
       "      <td id=\"T_5c764_row4_col1\" class=\"data row4 col1\" >87.983041</td>\n",
       "    </tr>\n",
       "  </tbody>\n",
       "</table>\n"
      ],
      "text/plain": [
       "<pandas.io.formats.style.Styler at 0x7f19017d3ca0>"
      ]
     },
     "execution_count": 25,
     "metadata": {},
     "output_type": "execute_result"
    }
   ],
   "source": [
    "df2.head().style.hide_index()"
   ]
  },
  {
   "cell_type": "code",
   "execution_count": null,
   "metadata": {
    "colab": {
     "base_uri": "https://localhost:8080/",
     "height": 498
    },
    "id": "GCb6qnP4XgBD",
    "outputId": "b5765e07-622d-4596-f603-8662b07ffc6e"
   },
   "outputs": [
    {
     "data": {
      "image/png": "[encoded data removed]",
      "text/plain": [
       "<Figure size 1440x720 with 1 Axes>"
      ]
     },
     "metadata": {},
     "output_type": "display_data"
    }
   ],
   "source": [
    "df2.head(50).plot(kind=\"bar\", figsize=(20, 10), title='Support Vector Regression')\n",
    "plt.show()"
   ]
  },
  {
   "cell_type": "code",
   "execution_count": null,
   "metadata": {
    "colab": {
     "base_uri": "https://localhost:8080/"
    },
    "id": "gQXuZRKBJ1b-",
    "outputId": "7f2def02-9e33-4715-b445-e44ff6258a6e"
   },
   "outputs": [
    {
     "name": "stdout",
     "output_type": "stream",
     "text": [
      "Accuracy of Support Vector Regression: 0.8254217399924029\n"
     ]
    }
   ],
   "source": [
    "accuracy2 = r2_score(y_test, predict2)\n",
    "print(\"Accuracy of Support Vector Regression:\", accuracy2)"
   ]
  },
  {
   "cell_type": "markdown",
   "metadata": {
    "id": "e_3HzTQLJ73I"
   },
   "source": [
    "decision tree regression\n"
   ]
  },
  {
   "cell_type": "code",
   "execution_count": null,
   "metadata": {
    "id": "bYwT-xSsJ_-F"
   },
   "outputs": [],
   "source": [
    "model3 = DecisionTreeRegressor()\n",
    "build3 = model3.fit(X_train.reshape(-1, 1), y_train)\n",
    "predict3 = model3.predict(X_test.reshape(-1, 1))"
   ]
  },
  {
   "cell_type": "code",
   "execution_count": null,
   "metadata": {
    "id": "B8-_-BSdKHle"
   },
   "outputs": [],
   "source": [
    "df3 = pd.DataFrame(list(zip(y_test, predict3)), columns=[\"Actual Values\", \"Predicted Values\"])"
   ]
  },
  {
   "cell_type": "code",
   "execution_count": null,
   "metadata": {
    "colab": {
     "base_uri": "https://localhost:8080/",
     "height": 206
    },
    "id": "wRC6gYNNKIrT",
    "outputId": "50fb8580-e328-45fe-fb1c-5b388402dc23"
   },
   "outputs": [
    {
     "data": {
      "text/html": [
       "<style type=\"text/css\">\n",
       "</style>\n",
       "<table id=\"T_9d454_\" class=\"dataframe\">\n",
       "  <thead>\n",
       "    <tr>\n",
       "      <th class=\"col_heading level0 col0\" >Actual Values</th>\n",
       "      <th class=\"col_heading level0 col1\" >Predicted Values</th>\n",
       "    </tr>\n",
       "  </thead>\n",
       "  <tbody>\n",
       "    <tr>\n",
       "      <td id=\"T_9d454_row0_col0\" class=\"data row0 col0\" >796.950012</td>\n",
       "      <td id=\"T_9d454_row0_col1\" class=\"data row0 col1\" >808.020020</td>\n",
       "    </tr>\n",
       "    <tr>\n",
       "      <td id=\"T_9d454_row1_col0\" class=\"data row1 col0\" >156.196198</td>\n",
       "      <td id=\"T_9d454_row1_col1\" class=\"data row1 col1\" >149.744751</td>\n",
       "    </tr>\n",
       "    <tr>\n",
       "      <td id=\"T_9d454_row2_col0\" class=\"data row2 col0\" >542.917908</td>\n",
       "      <td id=\"T_9d454_row2_col1\" class=\"data row2 col1\" >528.080017</td>\n",
       "    </tr>\n",
       "    <tr>\n",
       "      <td id=\"T_9d454_row3_col0\" class=\"data row3 col0\" >2064.479980</td>\n",
       "      <td id=\"T_9d454_row3_col1\" class=\"data row3 col1\" >2058.879883</td>\n",
       "    </tr>\n",
       "    <tr>\n",
       "      <td id=\"T_9d454_row4_col0\" class=\"data row4 col0\" >84.434433</td>\n",
       "      <td id=\"T_9d454_row4_col1\" class=\"data row4 col1\" >85.910912</td>\n",
       "    </tr>\n",
       "  </tbody>\n",
       "</table>\n"
      ],
      "text/plain": [
       "<pandas.io.formats.style.Styler at 0x7f193d0aaf70>"
      ]
     },
     "execution_count": 30,
     "metadata": {},
     "output_type": "execute_result"
    }
   ],
   "source": [
    "df3.head().style.hide_index()"
   ]
  },
  {
   "cell_type": "code",
   "execution_count": null,
   "metadata": {
    "colab": {
     "base_uri": "https://localhost:8080/",
     "height": 498
    },
    "id": "yuOOv8-NKMjB",
    "outputId": "64c476bf-ae3c-4b97-cabe-72e51ffaeef6"
   },
   "outputs": [
    {
     "data": {
      "image/png": "[encoded data removed]",
      "text/plain": [
       "<Figure size 1440x720 with 1 Axes>"
      ]
     },
     "metadata": {},
     "output_type": "display_data"
    }
   ],
   "source": [
    "df3.head(50).plot(kind=\"bar\", figsize=(20, 10), title='Decision Tree Regression')\n",
    "plt.show()"
   ]
  },
  {
   "cell_type": "code",
   "execution_count": null,
   "metadata": {
    "colab": {
     "base_uri": "https://localhost:8080/"
    },
    "id": "0IyK4DpvKQF7",
    "outputId": "739182e4-1d99-4ff1-8fcc-7d93d28a3145"
   },
   "outputs": [
    {
     "name": "stdout",
     "output_type": "stream",
     "text": [
      "Accuracy of Decision Tree Regression: 0.9993048273503061\n"
     ]
    }
   ],
   "source": [
    "accuracy3 = r2_score(y_test, predict3)\n",
    "print(\"Accuracy of Decision Tree Regression:\", accuracy3)"
   ]
  },
  {
   "cell_type": "markdown",
   "metadata": {
    "id": "drgIfE4rKYzH"
   },
   "source": [
    "Random Forest Regression"
   ]
  },
  {
   "cell_type": "code",
   "execution_count": null,
   "metadata": {
    "id": "4l35uBvGKa-S"
   },
   "outputs": [],
   "source": [
    "model4 = RandomForestRegressor(n_estimators=100)\n",
    "build4 = model4.fit(X_train.reshape(-1, 1), y_train)\n",
    "predict4 = model4.predict(X_test.reshape(-1, 1))"
   ]
  },
  {
   "cell_type": "code",
   "execution_count": null,
   "metadata": {
    "id": "jnwu1RkMKivh"
   },
   "outputs": [],
   "source": [
    "df4 = pd.DataFrame(list(zip(y_test, predict4)), columns=[\"Actual Values\", \"Predicted Values\"])"
   ]
  },
  {
   "cell_type": "code",
   "execution_count": null,
   "metadata": {
    "colab": {
     "base_uri": "https://localhost:8080/",
     "height": 206
    },
    "id": "Gz2nX8OTKj7d",
    "outputId": "e9343f9e-d6c0-43aa-9feb-0461e31bd11f"
   },
   "outputs": [
    {
     "data": {
      "text/html": [
       "<style type=\"text/css\">\n",
       "</style>\n",
       "<table id=\"T_5f130_\" class=\"dataframe\">\n",
       "  <thead>\n",
       "    <tr>\n",
       "      <th class=\"col_heading level0 col0\" >Actual Values</th>\n",
       "      <th class=\"col_heading level0 col1\" >Predicted Values</th>\n",
       "    </tr>\n",
       "  </thead>\n",
       "  <tbody>\n",
       "    <tr>\n",
       "      <td id=\"T_5f130_row0_col0\" class=\"data row0 col0\" >796.950012</td>\n",
       "      <td id=\"T_5f130_row0_col1\" class=\"data row0 col1\" >804.322411</td>\n",
       "    </tr>\n",
       "    <tr>\n",
       "      <td id=\"T_5f130_row1_col0\" class=\"data row1 col0\" >156.196198</td>\n",
       "      <td id=\"T_5f130_row1_col1\" class=\"data row1 col1\" >147.976928</td>\n",
       "    </tr>\n",
       "    <tr>\n",
       "      <td id=\"T_5f130_row2_col0\" class=\"data row2 col0\" >542.917908</td>\n",
       "      <td id=\"T_5f130_row2_col1\" class=\"data row2 col1\" >533.598223</td>\n",
       "    </tr>\n",
       "    <tr>\n",
       "      <td id=\"T_5f130_row3_col0\" class=\"data row3 col0\" >2064.479980</td>\n",
       "      <td id=\"T_5f130_row3_col1\" class=\"data row3 col1\" >2066.287398</td>\n",
       "    </tr>\n",
       "    <tr>\n",
       "      <td id=\"T_5f130_row4_col0\" class=\"data row4 col0\" >84.434433</td>\n",
       "      <td id=\"T_5f130_row4_col1\" class=\"data row4 col1\" >86.586137</td>\n",
       "    </tr>\n",
       "  </tbody>\n",
       "</table>\n"
      ],
      "text/plain": [
       "<pandas.io.formats.style.Styler at 0x7f190148a250>"
      ]
     },
     "execution_count": 35,
     "metadata": {},
     "output_type": "execute_result"
    }
   ],
   "source": [
    "df4.head().style.hide_index()"
   ]
  },
  {
   "cell_type": "code",
   "execution_count": null,
   "metadata": {
    "colab": {
     "base_uri": "https://localhost:8080/"
    },
    "id": "GsC7pH0QKpTi",
    "outputId": "bacaaace-9cc6-4c0a-adce-1b999c110116"
   },
   "outputs": [
    {
     "data": {
      "image/png": "[encoded data removed]",
      "text/plain": [
       "<Figure size 1440x720 with 1 Axes>"
      ]
     },
     "metadata": {},
     "output_type": "display_data"
    }
   ],
   "source": [
    "df4.head(50).plot(kind=\"bar\", figsize=(20, 10), title='Random Forest Regression')\n",
    "plt.show()"
   ]
  },
  {
   "cell_type": "code",
   "execution_count": null,
   "metadata": {
    "colab": {
     "base_uri": "https://localhost:8080/"
    },
    "id": "Ji0RPSNWKrLk",
    "outputId": "4bede02d-0a75-4383-aa76-40b806d8d100"
   },
   "outputs": [
    {
     "name": "stdout",
     "output_type": "stream",
     "text": [
      "Accuracy of Random Forest Regression: 0.9994494411230984\n"
     ]
    }
   ],
   "source": [
    "\n",
    "accuracy4 = r2_score(y_test, predict4)\n",
    "print(\"Accuracy of Random Forest Regression:\", accuracy4)"
   ]
  },
  {
   "cell_type": "markdown",
   "metadata": {
    "id": "BhRaG9ahKuu7"
   },
   "source": [
    "Visualize the result"
   ]
  },
  {
   "cell_type": "code",
   "execution_count": null,
   "metadata": {
    "colab": {
     "base_uri": "https://localhost:8080/"
    },
    "id": "lp6qzhkDK1AV",
    "outputId": "937328ec-4b56-4e01-e237-9411501c7838"
   },
   "outputs": [
    {
     "data": {
      "text/html": [
       "<style type=\"text/css\">\n",
       "</style>\n",
       "<table id=\"T_c5163_\" class=\"dataframe\">\n",
       "  <thead>\n",
       "    <tr>\n",
       "      <th class=\"col_heading level0 col0\" >Model</th>\n",
       "      <th class=\"col_heading level0 col1\" >Accuracy</th>\n",
       "    </tr>\n",
       "  </thead>\n",
       "  <tbody>\n",
       "    <tr>\n",
       "      <td id=\"T_c5163_row0_col0\" class=\"data row0 col0\" >Simple Linear Regression</td>\n",
       "      <td id=\"T_c5163_row0_col1\" class=\"data row0 col1\" >0.999574</td>\n",
       "    </tr>\n",
       "    <tr>\n",
       "      <td id=\"T_c5163_row1_col0\" class=\"data row1 col0\" >Support Vector Regression</td>\n",
       "      <td id=\"T_c5163_row1_col1\" class=\"data row1 col1\" >0.825422</td>\n",
       "    </tr>\n",
       "    <tr>\n",
       "      <td id=\"T_c5163_row2_col0\" class=\"data row2 col0\" >Decision Tree Regression</td>\n",
       "      <td id=\"T_c5163_row2_col1\" class=\"data row2 col1\" >0.999305</td>\n",
       "    </tr>\n",
       "    <tr>\n",
       "      <td id=\"T_c5163_row3_col0\" class=\"data row3 col0\" >Random Forest Regression</td>\n",
       "      <td id=\"T_c5163_row3_col1\" class=\"data row3 col1\" >0.999449</td>\n",
       "    </tr>\n",
       "  </tbody>\n",
       "</table>\n"
      ],
      "text/plain": [
       "<pandas.io.formats.style.Styler at 0x7f1901543280>"
      ]
     },
     "metadata": {},
     "output_type": "display_data"
    }
   ],
   "source": [
    "dict1 = {\n",
    "    \"Model\": [\"Simple Linear Regression\", \"Support Vector Regression\", \"Decision Tree Regression\", \"Random Forest Regression\"],\n",
    "    \"Accuracy\": np.array([accuracy1, accuracy2, accuracy3, accuracy4])\n",
    "}\n",
    "df = pd.DataFrame(dict1)\n",
    "display(df.style.hide_index())"
   ]
  },
  {
   "cell_type": "code",
   "execution_count": null,
   "metadata": {
    "colab": {
     "base_uri": "https://localhost:8080/"
    },
    "id": "qRxOB0fJLAVf",
    "outputId": "cc32e38a-1863-4ea4-bf41-0e8a258b9e9d"
   },
   "outputs": [
    {
     "data": {
      "image/png": "[encoded data removed]",
      "text/plain": [
       "<Figure size 1440x720 with 1 Axes>"
      ]
     },
     "metadata": {},
     "output_type": "display_data"
    }
   ],
   "source": [
    "models = ['SLR', 'SVR', 'DTR', 'RFR']\n",
    "acc = [accuracy1, accuracy2, accuracy3, accuracy4]\n",
    "plt.figure(figsize=(20, 10))\n",
    "plt.title('Comparision of Accuracies of models')\n",
    "plt.yticks(np.linspace(0,1,21))\n",
    "plt.ylabel(\"Accuracy\")\n",
    "plt.xlabel(\"Models\")\n",
    "values = df.Accuracy\n",
    "plot = sns.barplot(x=models, y=acc, data=values, errwidth=0)\n",
    "plt.show()"
   ]
  },
  {
   "cell_type": "markdown",
   "metadata": {
    "id": "71y9l01nPwmF"
   },
   "source": [
    "find the closing price of the complany that day"
   ]
  },
  {
   "cell_type": "code",
   "execution_count": null,
   "metadata": {
    "colab": {
     "base_uri": "https://localhost:8080/"
    },
    "id": "-3KC8dhAP0_-",
    "outputId": "12786470-2656-4da8-eab3-f341baac9624"
   },
   "outputs": [
    {
     "data": {
      "text/html": [
       "<style type=\"text/css\">\n",
       "</style>\n",
       "<table id=\"T_9d819_\" class=\"dataframe\">\n",
       "  <thead>\n",
       "    <tr>\n",
       "      <th class=\"col_heading level0 col0\" >Date</th>\n",
       "      <th class=\"col_heading level0 col1\" >Open</th>\n",
       "    </tr>\n",
       "  </thead>\n",
       "  <tbody>\n",
       "    <tr>\n",
       "      <td id=\"T_9d819_row0_col0\" class=\"data row0 col0\" >2023-02-16</td>\n",
       "      <td id=\"T_9d819_row0_col1\" class=\"data row0 col1\" >95.400000</td>\n",
       "    </tr>\n",
       "  </tbody>\n",
       "</table>\n"
      ],
      "text/plain": [
       "<pandas.io.formats.style.Styler at 0x7f1901608310>"
      ]
     },
     "metadata": {},
     "output_type": "display_data"
    }
   ],
   "source": [
    "new_dict = {\n",
    "    'Date': np.array(['2023-02-16']),\n",
    "    'Open':np.array([95.4])}\n",
    "\n",
    "future_stock_value = pd.DataFrame(new_dict)\n",
    "display(future_stock_value.style.hide_index())"
   ]
  },
  {
   "cell_type": "markdown",
   "metadata": {
    "id": "6X99tLYCP7P0"
   },
   "source": [
    "predict using highest accuracy model"
   ]
  },
  {
   "cell_type": "code",
   "execution_count": null,
   "metadata": {
    "id": "-CQEWAXcP4vl"
   },
   "outputs": [],
   "source": [
    "models = np.array(df['Model'])\n",
    "accuracy = np.array(df['Accuracy'])"
   ]
  },
  {
   "cell_type": "code",
   "execution_count": null,
   "metadata": {
    "id": "CAV3dDh7QKDI"
   },
   "outputs": [],
   "source": [
    "highest_accuracy=0.0\n",
    "best_model=\"\""
   ]
  },
  {
   "cell_type": "code",
   "execution_count": null,
   "metadata": {
    "id": "frsBDIvvQMyU"
   },
   "outputs": [],
   "source": [
    "for i in range(len(accuracy)) :\n",
    "    if accuracy[i] >= highest_accuracy :\n",
    "        highest_accuracy=accuracy[i]\n",
    "        best_model=models[i]"
   ]
  },
  {
   "cell_type": "code",
   "execution_count": null,
   "metadata": {
    "id": "pevy3TxsQOj8"
   },
   "outputs": [],
   "source": [
    "slr, svr, dtr, rfr = [], [], [], []\n",
    "\n",
    "if best_model == models[0] :\n",
    "    future_stock_value['Predicted'] = model1.predict(future_stock_value.Open.values.reshape(-1, 1))\n",
    "elif best_model == models[1] :\n",
    "    future_stock_value['Predicted'] = model2.predict(future_stock_value.Open.values.reshape(-1, 1))\n",
    "elif best_model == models[2] :\n",
    "    future_stock_value['Predicted'] = model3.predict(future_stock_value.Open.values.reshape(-1, 1))\n",
    "elif best_model == models[3] :\n",
    "    future_stock_value['Predicted'] = model4.predict(future_stock_value.Open.values.reshape(-1, 1))"
   ]
  },
  {
   "cell_type": "code",
   "execution_count": null,
   "metadata": {
    "colab": {
     "base_uri": "https://localhost:8080/"
    },
    "id": "IwDHPNrfQTFl",
    "outputId": "269831e5-85eb-40a8-f159-44df56c55076"
   },
   "outputs": [
    {
     "data": {
      "text/html": [
       "<style type=\"text/css\">\n",
       "</style>\n",
       "<table id=\"T_e10f9_\" class=\"dataframe\">\n",
       "  <thead>\n",
       "    <tr>\n",
       "      <th class=\"col_heading level0 col0\" >Date</th>\n",
       "      <th class=\"col_heading level0 col1\" >Open</th>\n",
       "      <th class=\"col_heading level0 col2\" >Predicted</th>\n",
       "    </tr>\n",
       "  </thead>\n",
       "  <tbody>\n",
       "    <tr>\n",
       "      <td id=\"T_e10f9_row0_col0\" class=\"data row0 col0\" >2023-02-16</td>\n",
       "      <td id=\"T_e10f9_row0_col1\" class=\"data row0 col1\" >95.400000</td>\n",
       "      <td id=\"T_e10f9_row0_col2\" class=\"data row0 col2\" >95.423088</td>\n",
       "    </tr>\n",
       "  </tbody>\n",
       "</table>\n"
      ],
      "text/plain": [
       "<pandas.io.formats.style.Styler at 0x7f19016562b0>"
      ]
     },
     "metadata": {},
     "output_type": "display_data"
    }
   ],
   "source": [
    "display(future_stock_value.style.hide_index())"
   ]
  },
  {
   "cell_type": "code",
   "execution_count": null,
   "metadata": {
    "id": "yXjfvobaCbQB"
   },
   "outputs": [],
   "source": []
  }
 ],
 "metadata": {
  "colab": {
   "provenance": []
  },
  "kernelspec": {
   "display_name": "Python 3 (ipykernel)",
   "language": "python",
   "name": "python3"
  },
  "language_info": {
   "codemirror_mode": {
    "name": "ipython",
    "version": 3
   },
   "file_extension": ".py",
   "mimetype": "text/x-python",
   "name": "python",
   "nbconvert_exporter": "python",
   "pygments_lexer": "ipython3",
   "version": "3.11.4"
  }
 },
 "nbformat": 4,
 "nbformat_minor": 1
}
